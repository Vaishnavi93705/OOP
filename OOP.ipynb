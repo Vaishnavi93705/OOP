{
  "nbformat": 4,
  "nbformat_minor": 0,
  "metadata": {
    "colab": {
      "provenance": []
    },
    "kernelspec": {
      "name": "python3",
      "display_name": "Python 3"
    },
    "language_info": {
      "name": "python"
    }
  },
  "cells": [
    {
      "cell_type": "markdown",
      "source": [
        "# 1 What is Object-Oriented Programming (OOP)\n",
        "\n",
        "- Object-Oriented Programming (OOP) is a programming paradigm based on the concept of \"objects\", which can contain data and code\n",
        "- it contain following concept\n",
        "  -Polymorphism\n",
        "  -Class\n",
        "  -Object\n",
        "  -Abstraction\n",
        "  -Encaptulation\n",
        "  -Inheritance\n",
        "  "
      ],
      "metadata": {
        "id": "INVGPpUbos1C"
      }
    },
    {
      "cell_type": "markdown",
      "source": [
        "# 2 What is a class in OOP\n",
        "-  Class is a blueprint or template used to create objects. It defines the attributes and methods\n"
      ],
      "metadata": {
        "id": "zQs6cJCypGV5"
      }
    },
    {
      "cell_type": "markdown",
      "source": [
        "# 3 What is an object in OOP ?\n",
        "- An object is a specific instance of a class.\n",
        "- It is a real-world entity"
      ],
      "metadata": {
        "id": "8SSrmcdopwIO"
      }
    },
    {
      "cell_type": "markdown",
      "source": [
        "# 4 What is the difference between abstraction and encapsulation\n",
        "Abstraction - Hiding complex implementation details and showing only essential features\n",
        "\n",
        "Encapsulation - Hiding the internal state of an object and requiring all interaction to go through methods\n"
      ],
      "metadata": {
        "id": "vY-4WAzvqH7H"
      }
    },
    {
      "cell_type": "markdown",
      "source": [
        "5 What are dunder methods in Python ?\n",
        "- Dunder methods in Python are special methods that start and end with double underscores (e.g., __init__, __str__, __len__).\n",
        "- This method is called magic method & special method\n",
        "-"
      ],
      "metadata": {
        "id": "NfHzIGnyq_Oq"
      }
    },
    {
      "cell_type": "markdown",
      "source": [
        "6 Explain the concept of inheritance in OOP?\n",
        "- Inheritance is a core concept in OOP that allows a new class (called a child or subclass) to inherit the properties and behaviors (methods and attributes) of an existing class (called a parent or superclass)."
      ],
      "metadata": {
        "id": "qGfkSJGDuwJ6"
      }
    },
    {
      "cell_type": "markdown",
      "source": [
        "7 What is polymorphism in OOP\n",
        "- Polymorphism means “many forms.”\n",
        "-  In Object-Oriented Programming (OOP), it allows objects of different classes\n"
      ],
      "metadata": {
        "id": "ILB2ZiYavFpw"
      }
    },
    {
      "cell_type": "markdown",
      "source": [
        "8 How is encapsulation achieved in Python ?\n",
        "- Encapsulation in Python is achieved by restricting direct access to an object's internal data (attributes) and providing methods to interact with that data."
      ],
      "metadata": {
        "id": "3WE1tG2SvYZs"
      }
    },
    {
      "cell_type": "markdown",
      "source": [
        "9 What is a constructor in Python ?\n",
        "- In Python, a constructor is a special method used to initialize objects when a class is instantiated."
      ],
      "metadata": {
        "id": "acUqLumowNZZ"
      }
    },
    {
      "cell_type": "markdown",
      "source": [
        "10  What are class and static methods in Python ?\n",
        "class methods and static methods are special types of methods in Python used inside a class. Unlike regular instance methods, they are not tied to a specific object instance."
      ],
      "metadata": {
        "id": "HZkTNVV3wfB9"
      }
    },
    {
      "cell_type": "markdown",
      "source": [
        "11 What is method overloading in Python\n",
        "- Method overloading is when multiple methods have the same name but different parameters"
      ],
      "metadata": {
        "id": "wMeetCopw0Fi"
      }
    },
    {
      "cell_type": "markdown",
      "source": [
        "12 What is method overriding in OOP\n",
        "- Method overriding is a feature in Object-Oriented Programming (OOP) that allows a subclass (child class) to provide its own implementation of a method that is already defined in its superclass (parent class)."
      ],
      "metadata": {
        "id": "4oKXsur5xASo"
      }
    },
    {
      "cell_type": "markdown",
      "source": [
        "13 What is a property decorator in Python\n",
        "- The @property decorator in Python is used to turn a method into a “getter” for a read-only or controlled-access attribute."
      ],
      "metadata": {
        "id": "mgNw0aa7yOmz"
      }
    },
    {
      "cell_type": "markdown",
      "source": [
        "14 Why is polymorphism important in OOP\n",
        "-  that allows objects of different classes to be treated as objects of a common superclass, while behaving differently depending on their actual type."
      ],
      "metadata": {
        "id": "keAw_98Kya6f"
      }
    },
    {
      "cell_type": "markdown",
      "source": [
        "15  What is an abstract class in Python\n",
        "- An abstract class in Python is a class that cannot be instantiated directly. It is used as a blueprint for other classes. Abstract classes define methods that must be implemented in any subclass that inherits from them."
      ],
      "metadata": {
        "id": "rokXZ8l_yu6o"
      }
    },
    {
      "cell_type": "markdown",
      "source": [
        "16 What are the advantages of OOP\n",
        "- Object-Oriented Programming offers a powerful way to structure and organize code by modeling real-world entities as objects.\n",
        " - Modularity\n",
        " - Code Reusability\n",
        " - Encapsulation\n",
        " - Polymorphism\n",
        " - abstraction"
      ],
      "metadata": {
        "id": "sjuTlH7YzD8B"
      }
    },
    {
      "cell_type": "markdown",
      "source": [
        "17 What is the difference between a class variable and an instance variable\n",
        "Class Variable\n",
        " - Variable shared by all instances of a class\n",
        " - Defined inside the class, but outside methods\n",
        "Instance variable\n",
        " - \tVariable unique to each instance (object)\n",
        " - Usually defined inside the __init__ method using self"
      ],
      "metadata": {
        "id": "pxgf3hOjzyrn"
      }
    },
    {
      "cell_type": "markdown",
      "source": [
        "18 What is multiple inheritance in Python\n",
        "- Multiple inheritance is a feature in Python where a class can inherit from more than one parent class. This means the child class gets behaviors and attributes from multiple classes.\n",
        "\n"
      ],
      "metadata": {
        "id": "_WqNUYHw0cN7"
      }
    },
    {
      "cell_type": "markdown",
      "source": [
        "19 Explain the purpose of ‘‘__str__’ and ‘__repr__’’ methods in Python\n",
        "- __repr__\n",
        " - Provide an unambiguous string representation of the object.\n",
        "- __str__\n",
        " - Provide a readable, user-friendly string representation.\n",
        "\n"
      ],
      "metadata": {
        "id": "fQ-CLWC9zXth"
      }
    },
    {
      "cell_type": "markdown",
      "source": [
        "20 What is the significance of the ‘super()’ function in Python\n",
        "- The super() function in Python is used to call methods from a parent (or superclass) in a subclass. It is especially important in inheritance and method overriding.\n",
        "\n"
      ],
      "metadata": {
        "id": "FH80QEvQ2C17"
      }
    },
    {
      "cell_type": "markdown",
      "source": [
        "21 What is the significance of the __del__ method in Python\n",
        " - The __del__ method is a special method in Python, also known as a destructor. It is called automatically when an object is about to be destroyed"
      ],
      "metadata": {
        "id": "OuEtl5B52P9w"
      }
    },
    {
      "cell_type": "markdown",
      "source": [
        "22  What is the difference between @staticmethod and @classmethod in Python\n",
        "-  @staticmethod and @classmethod are decorators used to define methods that don’t behave like normal instance methods — but they serve different purposes.\n",
        "\n",
        "- @staticmethod - Doesn’t take self or cls as the first argument.\n",
        "- @classmethod - akes cls (class itself) as the first argument.\n",
        "\n"
      ],
      "metadata": {
        "id": "gD-6vNfK2wa2"
      }
    },
    {
      "cell_type": "markdown",
      "source": [
        "23 How does polymorphism work in Python with inheritance\n",
        "- In Python, polymorphism through inheritance means that subclasses can override methods from a parent class, and those methods can be used interchangeably"
      ],
      "metadata": {
        "id": "cM3NdfFX3egO"
      }
    },
    {
      "cell_type": "markdown",
      "source": [
        "24 What is method chaining in Python OOP\n",
        "- Method chaining is a technique in Object-Oriented Programming where multiple methods are called on the same object in a single line, one after the other.\n",
        "- TextEditor(\"hello world\").upper().replace(\"HELLO\", \"HI\").show()"
      ],
      "metadata": {
        "id": "1oRPHbpl3wiQ"
      }
    },
    {
      "cell_type": "markdown",
      "source": [
        "25 What is the purpose of the __call__ method in Python\n",
        "- The __call__ method in Python allows an instance of a class to be called like a function."
      ],
      "metadata": {
        "id": "l1Xj_RJ74HMF"
      }
    },
    {
      "cell_type": "code",
      "source": [
        "'''Create a parent class Animal with a method speak() that prints a generic message. Create a child class Dog\n",
        "that overrides the speak() method to print \"Bark!\".'''\n",
        "class Animal ():\n",
        "  def speak(self):\n",
        "    print(\"animal sound\")\n",
        "class Dog (Animal):\n",
        "  def speak(self):\n",
        "    print(\"Bark!\")\n"
      ],
      "metadata": {
        "id": "4uoan53x4jM-"
      },
      "execution_count": null,
      "outputs": []
    },
    {
      "cell_type": "code",
      "source": [
        "a = Animal()\n",
        "d = Dog()\n",
        "a.speak()\n",
        "d.speak()"
      ],
      "metadata": {
        "colab": {
          "base_uri": "https://localhost:8080/"
        },
        "id": "cjJSyyaw5e8o",
        "outputId": "49ec2a7a-65af-4374-caef-800aea56a28d"
      },
      "execution_count": null,
      "outputs": [
        {
          "output_type": "stream",
          "name": "stdout",
          "text": [
            "animal sound\n",
            "Bark!\n"
          ]
        }
      ]
    },
    {
      "cell_type": "code",
      "source": [
        "'''Write a program to create an abstract class Shape with a method area(). Derive classes Circle and Rectangle\n",
        "from it and implement the area() method in both'''\n",
        "\n",
        "from abc import ABC, abstractmethod\n",
        "import math\n",
        "class Shape(ABC):\n",
        "    @abstractmethod\n",
        "    def area(self):\n",
        "        pass\n",
        "\n",
        "class Circle(Shape):\n",
        "    def __init__(self, radius):\n",
        "        self.radius = radius\n",
        "\n",
        "    def area(self):\n",
        "        return math.pi * self.radius ** 2\n",
        "\n",
        "class Rectangle(Shape):\n",
        "    def __init__(self, width, height):\n",
        "        self.width = width\n",
        "        self.height = height\n",
        "\n",
        "    def area(self):\n",
        "        return self.width * self.height\n",
        "\n",
        "circle = Circle(5)\n",
        "rectangle = Rectangle(4, 6)\n",
        "\n",
        "print(f\"Circle area: {circle.area():.2f}\")\n",
        "print(f\"Rectangle area: {rectangle.area():.2f}\")\n"
      ],
      "metadata": {
        "colab": {
          "base_uri": "https://localhost:8080/"
        },
        "id": "zol0O5__6CKi",
        "outputId": "08d6664b-9a40-4d80-dc45-fab450c75e09"
      },
      "execution_count": null,
      "outputs": [
        {
          "output_type": "stream",
          "name": "stdout",
          "text": [
            "Circle area: 78.54\n",
            "Rectangle area: 24.00\n"
          ]
        }
      ]
    },
    {
      "cell_type": "code",
      "source": [
        "'''3. Implement a multi-level inheritance scenario where a class Vehicle has an attribute type. Derive a class Car\n",
        "and further derive a class ElectricCar that adds a battery attribute.'''\n",
        "\n",
        "class Vehicle:\n",
        "    def __init__(self, vehicle_type):\n",
        "        self.type = vehicle_type\n",
        "\n",
        "\n",
        "class Car(Vehicle):\n",
        "    def __init__(self, vehicle_type, brand):\n",
        "        super().__init__(vehicle_type)\n",
        "        self.brand = brand\n",
        "\n",
        "class ElectricCar(Car):\n",
        "    def __init__(self, vehicle_type, brand, battery_capacity):\n",
        "        super().__init__(vehicle_type, brand)\n",
        "        self.battery = battery_capacity\n",
        "\n",
        "    def display_info(self):\n",
        "        print(f\"Type: {self.type}\")\n",
        "        print(f\"Brand: {self.brand}\")\n",
        "        print(f\"Battery Capacity: {self.battery} kWh\")\n",
        "\n",
        "# Example usage\n",
        "my_electric_car = ElectricCar(\"Four-Wheeler\", \"Tesla\", 100)\n",
        "my_electric_car.display_info()\n"
      ],
      "metadata": {
        "colab": {
          "base_uri": "https://localhost:8080/"
        },
        "id": "p70HbYPe6kSy",
        "outputId": "bca04aad-8148-45b9-c9fe-0997719a8068"
      },
      "execution_count": null,
      "outputs": [
        {
          "output_type": "stream",
          "name": "stdout",
          "text": [
            "Type: Four-Wheeler\n",
            "Brand: Tesla\n",
            "Battery Capacity: 100 kWh\n"
          ]
        }
      ]
    },
    {
      "cell_type": "code",
      "source": [
        "''' Demonstrate polymorphism by creating a base class Bird with a method fly(). Create two derived classes\n",
        "Sparrow and Penguin that override the fly() method.'''\n",
        "class Bird:\n",
        "    def fly(self):\n",
        "        print(\"Birds can fly\")\n",
        "class Sparrow(Bird):\n",
        "    def fly(self):\n",
        "        print(\"Sparrows can fly\")\n",
        "class Penguin(Bird):\n",
        "    def fly(self):\n",
        "        print(\"Penguins can't fly\")\n",
        "\n",
        "def bird_flying_test(bird):\n",
        "    bird.fly()\n",
        "\n",
        "sparrow = Sparrow()\n",
        "penguin = Penguin()\n",
        "\n",
        "bird_flying_test(sparrow)\n",
        "bird_flying_test(penguin)"
      ],
      "metadata": {
        "colab": {
          "base_uri": "https://localhost:8080/"
        },
        "id": "K1aKYyJ47XMs",
        "outputId": "3329756d-a683-4c7a-88ed-a709274156d3"
      },
      "execution_count": null,
      "outputs": [
        {
          "output_type": "stream",
          "name": "stdout",
          "text": [
            "Sparrows can fly\n",
            "Penguins can't fly\n"
          ]
        }
      ]
    },
    {
      "cell_type": "code",
      "source": [
        "''' Write a program to demonstrate encapsulation by creating a class BankAccount with private attributes\n",
        "balance and methods to deposit, withdraw, and check balance.'''\n",
        "class BankAccount:\n",
        "    def __init__(self, initial_balance=0):\n",
        "        self.__balance = initial_balance\n",
        "\n",
        "    def deposit(self, amount):\n",
        "        if amount > 0:\n",
        "            self.__balance += amount\n",
        "            print(f\"Deposited ${amount}. New balance: ${self.__balance}\")\n",
        "        else:\n",
        "            print(\"Deposit amount must be positive.\")\n",
        "\n",
        "    def withdraw(self, amount):\n",
        "        if amount > 0:\n",
        "            if amount <= self.__balance:\n",
        "                self.__balance -= amount\n",
        "                print(f\"Withdrew ${amount}. Remaining balance: ${self.__balance}\")\n",
        "            else:\n",
        "                print(\"Insufficient balance.\")\n",
        "        else:\n",
        "            print(\"Withdrawal amount must be positive.\")\n",
        "\n",
        "    def check_balance(self):\n",
        "        print(f\"Current balance: ${self.__balance}\")\n",
        "        return self.__balance\n",
        "\n",
        "account = BankAccount(100)\n",
        "account.check_balance()\n",
        "account.deposit(50)\n",
        "account.withdraw(30)\n",
        "account.withdraw(200)\n",
        "\n"
      ],
      "metadata": {
        "colab": {
          "base_uri": "https://localhost:8080/"
        },
        "id": "GOEAnAUA7lA9",
        "outputId": "e2c0fa96-5dfe-4453-8447-14d9d70004d3"
      },
      "execution_count": null,
      "outputs": [
        {
          "output_type": "stream",
          "name": "stdout",
          "text": [
            "Current balance: $100\n",
            "Deposited $50. New balance: $150\n",
            "Withdrew $30. Remaining balance: $120\n",
            "Insufficient balance.\n"
          ]
        }
      ]
    },
    {
      "cell_type": "code",
      "source": [
        "''' Demonstrate runtime polymorphism using a method play() in a base class Instrument. Derive classes Guitar\n",
        "and Piano that implement their own version of play().'''\n",
        "class Instrumental():\n",
        "  def play(self):\n",
        "    print(\"instrumental sound\")\n",
        "class Guitar(Instrumental):\n",
        "  def play(self):\n",
        "    print(\"guitar sound\")\n",
        "class Piano(Instrumental):\n",
        "  def play(self):\n",
        "    print(\"piano sound\")"
      ],
      "metadata": {
        "id": "XV0IPcDx8evM"
      },
      "execution_count": 1,
      "outputs": []
    },
    {
      "cell_type": "code",
      "source": [
        "g= Guitar()\n",
        "p= Piano()\n",
        "g.play()\n",
        "p.play()"
      ],
      "metadata": {
        "colab": {
          "base_uri": "https://localhost:8080/"
        },
        "id": "Ffx2uJGCnQRo",
        "outputId": "d6eff5b3-af34-4acf-89b1-b527d23322a8"
      },
      "execution_count": 2,
      "outputs": [
        {
          "output_type": "stream",
          "name": "stdout",
          "text": [
            "guitar sound\n",
            "piano sound\n"
          ]
        }
      ]
    },
    {
      "cell_type": "code",
      "source": [
        "'''. Create a class MathOperations with a class method add_numbers() to add two numbers and a static\n",
        "method subtract_numbers() to subtract two numbers'''\n",
        "class MathOperations:\n",
        "    @classmethod\n",
        "    def add_numbers(cls, a, b):\n",
        "        return a + b\n",
        "\n",
        "    @staticmethod\n",
        "    def subtract_numbers(a, b):\n",
        "        return a - b\n",
        "print(\"Addition:\", MathOperations.add_numbers(10, 5))      # Output: 15\n",
        "print(\"Subtraction:\", MathOperations.subtract_numbers(10, 5))\n",
        ""
      ],
      "metadata": {
        "colab": {
          "base_uri": "https://localhost:8080/"
        },
        "id": "Tov3jmXdnTPP",
        "outputId": "8275add8-d4f2-43cb-c8f3-8d9ce055d69a"
      },
      "execution_count": 15,
      "outputs": [
        {
          "output_type": "stream",
          "name": "stdout",
          "text": [
            "Addition: 15\n",
            "Subtraction: 5\n"
          ]
        }
      ]
    },
    {
      "cell_type": "code",
      "source": [
        "''' Implement a class Person with a class method to count the total number of persons created.'''\n",
        "class Person:\n",
        "    _count = 0\n",
        "\n",
        "    def __init__(self, name):\n",
        "        self.name = name\n",
        "        Person._count += 1\n",
        "\n",
        "    @classmethod\n",
        "    def total_persons(cls):\n",
        "        return cls._count\n",
        "\n",
        "\n",
        "p1 = Person(\"A\")\n",
        "p2 = Person(\"B\")\n",
        "p3 = Person(\"C\")\n",
        "\n",
        "\n",
        "print(\"Total persons created:\", Person.total_persons())\n"
      ],
      "metadata": {
        "colab": {
          "base_uri": "https://localhost:8080/"
        },
        "id": "xhFg9MN_n17h",
        "outputId": "ccaeb390-ac5f-449f-8572-1cc181318e1c"
      },
      "execution_count": 26,
      "outputs": [
        {
          "output_type": "stream",
          "name": "stdout",
          "text": [
            "Total persons created: 3\n"
          ]
        }
      ]
    },
    {
      "cell_type": "code",
      "source": [
        "'''Write a class Fraction with attributes numerator and denominator. Override the str method to display the\n",
        "fraction as \"numerator/denominator\".'''\n",
        "class Fraction():\n",
        "  def __init__(self, numerator, denominator):\n",
        "    self.numerator = numerator\n",
        "    self.denominator = denominator\n",
        "  def __str__(self):\n",
        "    return f\"{self.numerator}/{self.denominator}\"\n"
      ],
      "metadata": {
        "id": "HDrS7_zbpNgN"
      },
      "execution_count": 27,
      "outputs": []
    },
    {
      "cell_type": "code",
      "source": [
        "f1 = Fraction(3, 4)\n",
        "f2 = Fraction(1, 2)\n",
        "print(f1)\n",
        "print(f2)"
      ],
      "metadata": {
        "colab": {
          "base_uri": "https://localhost:8080/"
        },
        "id": "8EgHEqsarX1i",
        "outputId": "112d2d82-983a-4939-df8d-6377d359383c"
      },
      "execution_count": 30,
      "outputs": [
        {
          "output_type": "stream",
          "name": "stdout",
          "text": [
            "3/4\n",
            "1/2\n"
          ]
        }
      ]
    },
    {
      "cell_type": "code",
      "source": [
        "''' Create a class Person with attributes name and age. Add a method greet() that prints \"Hello, my name is\n",
        "{name} and I am {age} years old.\"'''\n",
        "class Preson():\n",
        "  def __init__(self, name, age):\n",
        "    self.name = name\n",
        "    self.age = age\n",
        "  def greet(self):\n",
        "    print(f\"Hello, my name is {self.name} and I am {self.age} years old.\")"
      ],
      "metadata": {
        "id": "l1LeOGsArb2F"
      },
      "execution_count": 31,
      "outputs": []
    },
    {
      "cell_type": "code",
      "source": [
        "p1 = Preson(\"Vaishnavi\", 20)\n",
        "p1.greet()"
      ],
      "metadata": {
        "colab": {
          "base_uri": "https://localhost:8080/"
        },
        "id": "-tafgvHZr43B",
        "outputId": "746175ba-7496-4698-8e9a-702b1ba5e02f"
      },
      "execution_count": 33,
      "outputs": [
        {
          "output_type": "stream",
          "name": "stdout",
          "text": [
            "Hello, my name is Vaishnavi and I am 20 years old.\n"
          ]
        }
      ]
    },
    {
      "cell_type": "code",
      "source": [
        "''' Implement a class Student with attributes name and grades. Create a method average_grade() to compute\n",
        "the average of the grades.'''\n",
        "class Student():\n",
        "  def __init__(self, name, grades):\n",
        "    self.name = name\n",
        "    self.grades = grades\n",
        "  def average_grade(self):\n",
        "    return sum(self.grades)/len(self.grades)"
      ],
      "metadata": {
        "id": "QEo1NbtMr7Uu"
      },
      "execution_count": 34,
      "outputs": []
    },
    {
      "cell_type": "code",
      "source": [
        "s1 = Student(\"Vaishnavi\", [90, 80, 70])\n",
        "s1.average_grade()"
      ],
      "metadata": {
        "colab": {
          "base_uri": "https://localhost:8080/"
        },
        "id": "hFk9E4eUsVAi",
        "outputId": "e95a3ac4-9aa4-4748-f543-2ed16dff1bb1"
      },
      "execution_count": 35,
      "outputs": [
        {
          "output_type": "execute_result",
          "data": {
            "text/plain": [
              "80.0"
            ]
          },
          "metadata": {},
          "execution_count": 35
        }
      ]
    },
    {
      "cell_type": "code",
      "source": [
        "''' Create a class Rectangle with methods set_dimensions() to set the dimensions and area() to calculate the\n",
        "area'''\n",
        "class Rectangle:\n",
        "    def __init__(self):\n",
        "        self.length = 0\n",
        "        self.width = 0\n",
        "\n",
        "    def set_dimensions(self, length, width):\n",
        "        self.length = length\n",
        "        self.width = width\n",
        "\n",
        "    def area(self):\n",
        "        return self.length * self.width\n"
      ],
      "metadata": {
        "id": "TGcajB5dsdXd"
      },
      "execution_count": 43,
      "outputs": []
    },
    {
      "cell_type": "code",
      "source": [
        "rect = Rectangle()\n",
        "rect.set_dimensions(5, 3)\n",
        "print(\"Area of rectangle:\", rect.area())\n"
      ],
      "metadata": {
        "colab": {
          "base_uri": "https://localhost:8080/"
        },
        "id": "LPxps14Fs2I_",
        "outputId": "b3e6a4d9-4fca-4f3d-b31d-8bfc7da74d74"
      },
      "execution_count": 44,
      "outputs": [
        {
          "output_type": "stream",
          "name": "stdout",
          "text": [
            "Area of rectangle: 15\n"
          ]
        }
      ]
    },
    {
      "cell_type": "code",
      "source": [
        "''' Create a class Employee with a method calculate_salary() that computes the salary based on hours worked\n",
        "and hourly rate. Create a derived class Manager that adds a bonus to the salary.'''\n",
        "\n",
        "class Employee:\n",
        "    def __init__(self, name, hours_worked, hourly_rate):\n",
        "        self.name = name\n",
        "        self.hours_worked = hours_worked\n",
        "        self.hourly_rate = hourly_rate\n",
        "\n",
        "    def calculate_salary(self):\n",
        "        return self.hours_worked * self.hourly_rate\n",
        "\n",
        "\n",
        "class Manager(Employee):\n",
        "    def __init__(self, name, hours_worked, hourly_rate, bonus):\n",
        "        super().__init__(name, hours_worked, hourly_rate)\n",
        "        self.bonus = bonus\n",
        "\n",
        "    def calculate_salary(self):\n",
        "        base_salary = super().calculate_salary()\n",
        "        return base_salary + self.bonus\n"
      ],
      "metadata": {
        "id": "moNwbpZxs3K8"
      },
      "execution_count": 46,
      "outputs": []
    },
    {
      "cell_type": "code",
      "source": [
        "emp = Employee(\"Alice\", 40, 20)\n",
        "mgr = Manager(\"Bob\", 40, 30, 500)\n",
        "\n",
        "print(f\"{emp.name}'s salary: ${emp.calculate_salary()}\")\n",
        "print(f\"{mgr.name}'s salary: ${mgr.calculate_salary()}\")"
      ],
      "metadata": {
        "colab": {
          "base_uri": "https://localhost:8080/"
        },
        "id": "1dNXKJpuuCQh",
        "outputId": "55105ba7-ca73-4288-d937-b7bf88b002fa"
      },
      "execution_count": 47,
      "outputs": [
        {
          "output_type": "stream",
          "name": "stdout",
          "text": [
            "Alice's salary: $800\n",
            "Bob's salary: $1700\n"
          ]
        }
      ]
    },
    {
      "cell_type": "code",
      "source": [
        "''' Create a class Product with attributes name, price, and quantity. Implement a method total_price() that\n",
        "calculates the total price of the product.'''\n",
        "class Product:\n",
        "    def __init__(self, name, price, quantity):\n",
        "        self.name = name\n",
        "        self.price = price\n",
        "        self.quantity = quantity\n",
        "\n",
        "    def total_price(self):\n",
        "        return self.price * self.quantity\n",
        "\n",
        "\n",
        "p1 = Product(\"Laptop\", 750.00, 2)\n",
        "p2 = Product(\"CPU\", 25.50, 4)\n",
        "\n",
        "print(f\"Total price for {p1.name}: {p1.total_price():.2f}\")\n",
        "print(f\"Total price for {p2.name}: {p2.total_price():.2f}\")  #\n"
      ],
      "metadata": {
        "colab": {
          "base_uri": "https://localhost:8080/"
        },
        "id": "UTvlDRw4uKtk",
        "outputId": "ee961f9c-c628-48c5-aa21-599e9e8f5b33"
      },
      "execution_count": 51,
      "outputs": [
        {
          "output_type": "stream",
          "name": "stdout",
          "text": [
            "Total price for Laptop: 1500.00\n",
            "Total price for CPU: 102.00\n"
          ]
        }
      ]
    },
    {
      "cell_type": "code",
      "source": [
        "''' Create a class Animal with an abstract method sound(). Create two derived classes Cow and Sheep that\n",
        "implement the sound() method.'''\n",
        "from abc import ABC, abstractmethod\n",
        "\n",
        "class Animal(ABC):\n",
        "    @abstractmethod\n",
        "    def sound(self):\n",
        "        pass\n",
        "\n",
        "class Cow(Animal):\n",
        "    def sound(self):\n",
        "        print(\"Moo\")\n",
        "\n",
        "class Sheep(Animal):\n",
        "    def sound(self):\n",
        "        print(\"Baa\")\n",
        ""
      ],
      "metadata": {
        "id": "K3qtdKq-ubWN"
      },
      "execution_count": 53,
      "outputs": []
    },
    {
      "cell_type": "code",
      "source": [
        "cow = Cow()\n",
        "sheep = Sheep()\n",
        "\n",
        "cow.sound()\n",
        "sheep.sound()\n"
      ],
      "metadata": {
        "colab": {
          "base_uri": "https://localhost:8080/"
        },
        "id": "ietv3WSzvuBa",
        "outputId": "771c21e8-b1e0-4296-88a7-9508bb9d3d3c"
      },
      "execution_count": 54,
      "outputs": [
        {
          "output_type": "stream",
          "name": "stdout",
          "text": [
            "Moo\n",
            "Baa\n"
          ]
        }
      ]
    },
    {
      "cell_type": "code",
      "source": [
        "''' Create a class Book with attributes title, author, and year_published. Add a method get_book_info() that\n",
        "returns a formatted string with the book's details.'''\n",
        "class Book:\n",
        "    def __init__(self, title, author, year_published):\n",
        "        self.title = title\n",
        "        self.author = author\n",
        "        self.year_published = year_published\n",
        "\n",
        "    def get_book_info(self):\n",
        "        return f\"'{self.title}' by {self.author}, published in {self.year_published}\"\n",
        "\n",
        "book = Book(\"1984\", \"bob\", 1949)\n",
        "print(book.get_book_info())\n",
        "\n"
      ],
      "metadata": {
        "colab": {
          "base_uri": "https://localhost:8080/"
        },
        "id": "K24xHN8Dv20P",
        "outputId": "9acd5284-8d0a-4a44-9d4e-ba928727e001"
      },
      "execution_count": 56,
      "outputs": [
        {
          "output_type": "stream",
          "name": "stdout",
          "text": [
            "'1984' by bob, published in 1949\n"
          ]
        }
      ]
    },
    {
      "cell_type": "code",
      "source": [
        "''' Create a class House with attributes address and price. Create a derived class Mansion that adds an\n",
        "attribute number_of_rooms.'''\n",
        "\n",
        "class House:\n",
        "    def __init__(self, address, price):\n",
        "        self.address = address\n",
        "        self.price = price\n",
        "\n",
        "class Mansion(House):\n",
        "    def __init__(self, address, price, number_of_rooms):\n",
        "        super().__init__(address, price)\n",
        "        self.number_of_rooms = number_of_rooms\n",
        "\n",
        "house = House(\"123 shivaji nagar\", 250000)\n",
        "mansion = Mansion(\"456 ram nagar\", 2000000, 10)\n",
        "\n",
        "print(f\"House address: {house.address}, Price: ${house.price}\")\n",
        "print(f\"Mansion address: {mansion.address}, Price: ${mansion.price}, Rooms: {mansion.number_of_rooms}\")\n"
      ],
      "metadata": {
        "colab": {
          "base_uri": "https://localhost:8080/"
        },
        "id": "UGGoXkvswcMK",
        "outputId": "2d349aa6-838d-4387-8fd4-0c6768d6e86e"
      },
      "execution_count": 59,
      "outputs": [
        {
          "output_type": "stream",
          "name": "stdout",
          "text": [
            "House address: 123 shivaji nagar, Price: $250000\n",
            "Mansion address: 456 ram nagar, Price: $2000000, Rooms: 10\n"
          ]
        }
      ]
    },
    {
      "cell_type": "code",
      "source": [],
      "metadata": {
        "id": "Bun88UrQw2Qn"
      },
      "execution_count": 59,
      "outputs": []
    }
  ]
}